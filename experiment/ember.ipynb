{
 "cells": [
  {
   "cell_type": "code",
   "execution_count": 1,
   "metadata": {},
   "outputs": [
    {
     "name": "stdout",
     "output_type": "stream",
     "text": [
      "API key loaded: ✓\n",
      "Looking for .env file at: /Users/allison/workspace/ai playground/steering-interface/backend/.env\n"
     ]
    }
   ],
   "source": [
    "from dotenv import load_dotenv\n",
    "import os\n",
    "from pathlib import Path\n",
    "\n",
    "# Direct path specification\n",
    "env_path = Path('../backend/.env').resolve()  # or Path('../backend/.env') depending on your directory structure\n",
    "\n",
    "# Load environment variables from .env file with explicit path\n",
    "load_dotenv(dotenv_path=env_path)\n",
    "\n",
    "# Access your API key\n",
    "api_key = os.getenv(\"EMBER_API_KEY\")\n",
    "\n",
    "# Verify it loaded (don't print the actual key in your notebook!)\n",
    "print(\"API key loaded:\", \"✓\" if api_key else \"✗\")\n",
    "print(f\"Looking for .env file at: {env_path}\")"
   ]
  },
  {
   "cell_type": "code",
   "execution_count": 2,
   "metadata": {},
   "outputs": [],
   "source": [
    "import goodfire"
   ]
  },
  {
   "cell_type": "code",
   "execution_count": 3,
   "metadata": {},
   "outputs": [],
   "source": [
    "client = goodfire.Client(\n",
    "    api_key=api_key,\n",
    ")"
   ]
  },
  {
   "cell_type": "code",
   "execution_count": 4,
   "metadata": {},
   "outputs": [
    {
     "name": "stdout",
     "output_type": "stream",
     "text": [
      "The capital of France is Paris.\n"
     ]
    }
   ],
   "source": [
    "response =  client.chat.completions.create(\n",
    "    messages=[\n",
    "        {\"role\": \"user\", \"content\": \"What is the capital of France?\"}\n",
    "    ],\n",
    "    model=\"meta-llama/Llama-3.3-70B-Instruct\"\n",
    ")\n",
    "\n",
    "print(response.choices[0].message[\"content\"])"
   ]
  },
  {
   "cell_type": "code",
   "execution_count": 5,
   "metadata": {},
   "outputs": [
    {
     "name": "stdout",
     "output_type": "stream",
     "text": [
      "Variant(\n",
      "   base_model=meta-llama/Llama-3.3-70B-Instruct,\n",
      "   edits={\n",
      "   }\n",
      "   scopes={\n",
      "   }\n",
      ")\n"
     ]
    }
   ],
   "source": [
    "# Create a variant\n",
    "\n",
    "vDefault = goodfire.Variant(\"meta-llama/Llama-3.3-70B-Instruct\")\n",
    "print(vDefault)"
   ]
  },
  {
   "cell_type": "code",
   "execution_count": 6,
   "metadata": {},
   "outputs": [
    {
     "name": "stdout",
     "output_type": "stream",
     "text": [
      "FeatureGroup([\n",
      "   0: \"Simplified explanations of complex concepts\",\n",
      "   1: \"Explaining complex topics in simpler terms to help understanding\",\n",
      "   2: \"Explaining complex concepts using simple, accessible language\",\n",
      "   3: \"Breaking down technical concepts into simpler explanations\",\n",
      "   4: \"Breaking down complex topics into simpler explanations\",\n",
      "   5: \"Breaking down complex topics into simpler explanations\",\n",
      "   6: \"The assistant is providing a simplified technical explanation\",\n",
      "   7: \"The assistant is simplifying a complex technical concept\",\n",
      "   8: \"Making complex concepts understandable to others\",\n",
      "   9: \"Detailed explanation of inner workings or processes\"\n",
      "])\n"
     ]
    }
   ],
   "source": [
    "# Search features\n",
    "\n",
    "feature = client.features.search(\"ELI5\", model=vDefault, top_k=10)\n",
    "print(feature)"
   ]
  },
  {
   "cell_type": "code",
   "execution_count": 7,
   "metadata": {},
   "outputs": [
    {
     "name": "stdout",
     "output_type": "stream",
     "text": [
      "Technical setup and configuration states in experimental procedures: 7\n",
      "The assistant should engage with pirate-themed content or roleplay as a pirate: 7\n",
      "The assistant acknowledges its AI limitations while pivoting to what it can offer: 7\n",
      "Detailed personification and attribute description in formal writing: 7\n",
      "Setting up detailed writing or description tasks: 5\n",
      "Explaining that something from fiction is not real or possible: 5\n",
      "Whales: 5\n",
      "The start of instructional or procedural steps in lists and guides: 5\n",
      "The assistant begins a detailed helpful response: 4\n",
      "The assistant is explaining its nature as an AI system: 4\n",
      "Transitional phrases that make explanations flow naturally: 4\n",
      "The user has a question: 3\n",
      "Polite user requests requiring detailed responses: 3\n",
      "Opinion-seeking prepositions in evaluation requests: 3\n",
      "Word parts expressing opinions or viewpoints across different languages: 3\n",
      "Intelligence in animals: 3\n",
      "The introduction of explanatory content about benefits or advantages: 3\n",
      "Prompting for personal opinions or reactions: 3\n",
      "The assistant needs to correct misconceptions or reject inappropriate requests: 3\n",
      "Fantasy sea creatures and underwater settings in creative writing: 3\n"
     ]
    }
   ],
   "source": [
    "inspector = client.features.inspect(\n",
    "    [\n",
    "        {\"role\": \"user\", \"content\": \"What do you think about pirates and whales\"},\n",
    "        {\"role\": \"assistant\", \"content\": \"I think pirates are cool and whales are cool\"}\n",
    "    ],\n",
    "    model=vDefault\n",
    ")\n",
    "\n",
    "# Get top activated features\n",
    "for activation in inspector.top(k=20):\n",
    "    print(f\"{activation.feature.label}: {activation.activation}\")"
   ]
  },
  {
   "cell_type": "code",
   "execution_count": 8,
   "metadata": {},
   "outputs": [],
   "source": [
    "# Compare formal vs informal conversations\n",
    "dataset_1 = [[\n",
    "    {\"role\": \"user\", \"content\": \"Hi how are you?\"},\n",
    "    {\"role\": \"assistant\", \"content\": \"I'm doing well...\"}\n",
    "]]\n",
    "dataset_2 = [[\n",
    "    {\"role\": \"user\", \"content\": \"Hi how are you?\"},\n",
    "    {\"role\": \"assistant\", \"content\": \"Arr my spirits be high...\"}\n",
    "]]\n",
    "\n",
    "formal_features, informal_features =  client.features.contrast(\n",
    "    dataset_1=dataset_1,\n",
    "    dataset_2=dataset_2,\n",
    "    model=\"meta-llama/Llama-3.3-70B-Instruct\",\n",
    "    top_k=5\n",
    ")"
   ]
  },
  {
   "cell_type": "code",
   "execution_count": 12,
   "metadata": {},
   "outputs": [],
   "source": [
    "formal_features\n",
    "random_feature = formal_features[0]"
   ]
  },
  {
   "cell_type": "code",
   "execution_count": 10,
   "metadata": {},
   "outputs": [
    {
     "data": {
      "text/plain": [
       "FeatureGroup([\n",
       "   0: \"Assistant responding to casual greetings about its wellbeing\",\n",
       "   1: \"Status check questions and responses using 'doing' in conversation\",\n",
       "   2: \"The assistant maintaining honesty about being an AI\",\n",
       "   3: \"Assistant's initial friendly greeting to open a conversation\",\n",
       "   4: \"Positive responses to 'how are you' questions across languages\"\n",
       "])"
      ]
     },
     "execution_count": 10,
     "metadata": {},
     "output_type": "execute_result"
    }
   ],
   "source": [
    "# Rerank features based on relevance to \"writing style\"\n",
    "reranked = client.features.rerank(\n",
    "    features=formal_features,\n",
    "    query=\"writing style\",\n",
    "    model=\"meta-llama/Llama-3.3-70B-Instruct\",\n",
    "    top_k=10\n",
    ")\n",
    "\n",
    "reranked"
   ]
  },
  {
   "cell_type": "code",
   "execution_count": 20,
   "metadata": {},
   "outputs": [
    {
     "data": {
      "text/plain": [
       "'8bb53ed7-ed2f-4166-9161-13df6006451d'"
      ]
     },
     "execution_count": 20,
     "metadata": {},
     "output_type": "execute_result"
    }
   ],
   "source": [
    "random_feature.uuid"
   ]
  },
  {
   "cell_type": "code",
   "execution_count": null,
   "metadata": {},
   "outputs": [],
   "source": []
  }
 ],
 "metadata": {
  "kernelspec": {
   "display_name": "steering-interface-w-ember",
   "language": "python",
   "name": "steering-interface"
  },
  "language_info": {
   "codemirror_mode": {
    "name": "ipython",
    "version": 3
   },
   "file_extension": ".py",
   "mimetype": "text/x-python",
   "name": "python",
   "nbconvert_exporter": "python",
   "pygments_lexer": "ipython3",
   "version": "3.13.2"
  }
 },
 "nbformat": 4,
 "nbformat_minor": 2
}
