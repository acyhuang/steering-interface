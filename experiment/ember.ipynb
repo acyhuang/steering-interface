{
 "cells": [
  {
   "cell_type": "code",
   "execution_count": 1,
   "metadata": {},
   "outputs": [
    {
     "name": "stdout",
     "output_type": "stream",
     "text": [
      "API key loaded: ✓\n",
      "Looking for .env file at: /Users/allison/workspace/ai playground/steering-interface/backend/.env\n"
     ]
    }
   ],
   "source": [
    "from dotenv import load_dotenv\n",
    "import os\n",
    "from pathlib import Path\n",
    "\n",
    "# Direct path specification\n",
    "env_path = Path('../backend/.env').resolve()  # or Path('../backend/.env') depending on your directory structure\n",
    "\n",
    "# Load environment variables from .env file with explicit path\n",
    "load_dotenv(dotenv_path=env_path)\n",
    "\n",
    "# Access your API key\n",
    "api_key = os.getenv(\"EMBER_API_KEY\")\n",
    "\n",
    "# Verify it loaded (don't print the actual key in your notebook!)\n",
    "print(\"API key loaded:\", \"✓\" if api_key else \"✗\")\n",
    "print(f\"Looking for .env file at: {env_path}\")"
   ]
  },
  {
   "cell_type": "code",
   "execution_count": 2,
   "metadata": {},
   "outputs": [],
   "source": [
    "import goodfire"
   ]
  },
  {
   "cell_type": "code",
   "execution_count": 3,
   "metadata": {},
   "outputs": [],
   "source": [
    "client = goodfire.AsyncClient(\n",
    "    api_key=api_key,\n",
    ")"
   ]
  },
  {
   "cell_type": "code",
   "execution_count": 13,
   "metadata": {},
   "outputs": [
    {
     "name": "stdout",
     "output_type": "stream",
     "text": [
      "The capital of France is Paris.\n"
     ]
    }
   ],
   "source": [
    "async def chat_completion(messages: list[dict], model: goodfire.Variant):\n",
    "    response = await client.chat.completions.create(\n",
    "        messages=messages,\n",
    "        model=model\n",
    "    )\n",
    "    print(response.choices[0].message[\"content\"])\n",
    "\n",
    "await chat_completion([{\"role\": \"user\", \"content\": \"What is the capital of France?\"}], vDefault)"
   ]
  },
  {
   "cell_type": "code",
   "execution_count": 14,
   "metadata": {},
   "outputs": [
    {
     "name": "stdout",
     "output_type": "stream",
     "text": [
      "Variant(\n",
      "   base_model=meta-llama/Llama-3.3-70B-Instruct,\n",
      "   edits={\n",
      "   }\n",
      "   scopes={\n",
      "   }\n",
      ")\n"
     ]
    }
   ],
   "source": [
    "# Create a variant\n",
    "\n",
    "vDefault = goodfire.Variant(\"meta-llama/Llama-3.3-70B-Instruct\")\n",
    "print(vDefault)"
   ]
  },
  {
   "cell_type": "code",
   "execution_count": 27,
   "metadata": {},
   "outputs": [
    {
     "name": "stdout",
     "output_type": "stream",
     "text": [
      "b2e24a95-f194-4994-9d39-b48efd142e7d\n",
      "Simplified explanations of complex concepts\n",
      "22933\n"
     ]
    }
   ],
   "source": [
    "# Search features\n",
    "async def search_features(query: str, model: goodfire.Variant):\n",
    "    features = await client.features.search(query, model=model, top_k=10)\n",
    "    feature = features[0]\n",
    "    print(feature.uuid)\n",
    "    print(feature.label)\n",
    "    print(feature.index_in_sae)\n",
    "\n",
    "await search_features(\"ELI5\", vDefault)"
   ]
  },
  {
   "cell_type": "code",
   "execution_count": 28,
   "metadata": {},
   "outputs": [
    {
     "name": "stdout",
     "output_type": "stream",
     "text": [
      "Found 1 features:\n",
      "  - Simplified explanations of complex concepts (b2e24a95-f194-4994-9d39-b48efd142e7d)\n"
     ]
    },
    {
     "data": {
      "text/plain": [
       "FeatureGroup([\n",
       "   0: \"Simplified explanations of complex concepts\"\n",
       "])"
      ]
     },
     "execution_count": 28,
     "metadata": {},
     "output_type": "execute_result"
    }
   ],
   "source": [
    "async def list_features(feature_ids: list[str]):\n",
    "    \"\"\"List features by their UUIDs using async client.\"\"\"\n",
    "    try:\n",
    "        # Use 'ids' parameter as shown in documentation\n",
    "        features = await client.features._list(ids=feature_ids)\n",
    "        print(f\"Found {len(features)} features:\")\n",
    "        for feature in features:\n",
    "            print(f\"  - {feature.label} ({feature.uuid})\")\n",
    "        return features\n",
    "    except AttributeError as e:\n",
    "        print(f\"Method not available: {e}\")\n",
    "        return None\n",
    "\n",
    "await list_features([\"b2e24a95-f194-4994-9d39-b48efd142e7d\"])"
   ]
  },
  {
   "cell_type": "code",
   "execution_count": 26,
   "metadata": {},
   "outputs": [
    {
     "name": "stdout",
     "output_type": "stream",
     "text": [
      "{1: Feature(\"The assistant wishes enjoyment of food/recipes to users\"), 2: Feature(\"Brazilian historical narratives in Portuguese, especially about colonial discoveries\"), 0: Feature(\"Explanatory statements about AI's impacts and applications\")}\n"
     ]
    }
   ],
   "source": [
    "async def lookup_features(indices: list[int], model: goodfire.Variant):\n",
    "    features = await client.features.lookup(indices=indices, model=model)\n",
    "    print(features)\n",
    "\n",
    "await lookup_features([0, 1, 2], vDefault)"
   ]
  },
  {
   "cell_type": "code",
   "execution_count": null,
   "metadata": {},
   "outputs": [],
   "source": []
  },
  {
   "cell_type": "code",
   "execution_count": 20,
   "metadata": {},
   "outputs": [
    {
     "name": "stdout",
     "output_type": "stream",
     "text": [
      "Available methods on client.features:\n",
      "['AutoConditional', 'AutoSteer', 'activations', 'base_url', 'contrast', 'generate_contrastive_stimulus', 'goodfire_api_key', 'inspect', 'lookup', 'neighbors', 'rerank', 'search', 'semantic_similarity']\n"
     ]
    }
   ],
   "source": [
    "# Debug: See what methods are available\n",
    "print(\"Available methods on client.features:\")\n",
    "print([method for method in dir(client.features) if not method.startswith('_')])"
   ]
  },
  {
   "cell_type": "code",
   "execution_count": 10,
   "metadata": {},
   "outputs": [
    {
     "ename": "AttributeError",
     "evalue": "'coroutine' object has no attribute 'top'",
     "output_type": "error",
     "traceback": [
      "\u001b[0;31m---------------------------------------------------------------------------\u001b[0m",
      "\u001b[0;31mAttributeError\u001b[0m                            Traceback (most recent call last)",
      "Cell \u001b[0;32mIn[10], line 10\u001b[0m\n\u001b[1;32m      1\u001b[0m inspector \u001b[38;5;241m=\u001b[39m client\u001b[38;5;241m.\u001b[39mfeatures\u001b[38;5;241m.\u001b[39minspect(\n\u001b[1;32m      2\u001b[0m     [\n\u001b[1;32m      3\u001b[0m         {\u001b[38;5;124m\"\u001b[39m\u001b[38;5;124mrole\u001b[39m\u001b[38;5;124m\"\u001b[39m: \u001b[38;5;124m\"\u001b[39m\u001b[38;5;124muser\u001b[39m\u001b[38;5;124m\"\u001b[39m, \u001b[38;5;124m\"\u001b[39m\u001b[38;5;124mcontent\u001b[39m\u001b[38;5;124m\"\u001b[39m: \u001b[38;5;124m\"\u001b[39m\u001b[38;5;124mWhat do you think about pirates and whales\u001b[39m\u001b[38;5;124m\"\u001b[39m},\n\u001b[0;32m   (...)\u001b[0m\n\u001b[1;32m      6\u001b[0m     model\u001b[38;5;241m=\u001b[39mvDefault\n\u001b[1;32m      7\u001b[0m )\n\u001b[1;32m      9\u001b[0m \u001b[38;5;66;03m# Get top activated features\u001b[39;00m\n\u001b[0;32m---> 10\u001b[0m \u001b[38;5;28;01mfor\u001b[39;00m activation \u001b[38;5;129;01min\u001b[39;00m \u001b[43minspector\u001b[49m\u001b[38;5;241;43m.\u001b[39;49m\u001b[43mtop\u001b[49m(k\u001b[38;5;241m=\u001b[39m\u001b[38;5;241m20\u001b[39m):\n\u001b[1;32m     11\u001b[0m     \u001b[38;5;28mprint\u001b[39m(\u001b[38;5;124mf\u001b[39m\u001b[38;5;124m\"\u001b[39m\u001b[38;5;132;01m{\u001b[39;00mactivation\u001b[38;5;241m.\u001b[39mfeature\u001b[38;5;241m.\u001b[39mlabel\u001b[38;5;132;01m}\u001b[39;00m\u001b[38;5;124m: \u001b[39m\u001b[38;5;132;01m{\u001b[39;00mactivation\u001b[38;5;241m.\u001b[39mactivation\u001b[38;5;132;01m}\u001b[39;00m\u001b[38;5;124m\"\u001b[39m)\n",
      "\u001b[0;31mAttributeError\u001b[0m: 'coroutine' object has no attribute 'top'"
     ]
    }
   ],
   "source": [
    "inspector = client.features.inspect(\n",
    "    [\n",
    "        {\"role\": \"user\", \"content\": \"What do you think about pirates and whales\"},\n",
    "        {\"role\": \"assistant\", \"content\": \"I think pirates are cool and whales are cool\"}\n",
    "    ],\n",
    "    model=vDefault\n",
    ")\n",
    "\n",
    "# Get top activated features\n",
    "for activation in inspector.top(k=20):\n",
    "    print(f\"{activation.feature.label}: {activation.activation}\")"
   ]
  },
  {
   "cell_type": "code",
   "execution_count": 8,
   "metadata": {},
   "outputs": [],
   "source": [
    "# Compare formal vs informal conversations\n",
    "dataset_1 = [[\n",
    "    {\"role\": \"user\", \"content\": \"Hi how are you?\"},\n",
    "    {\"role\": \"assistant\", \"content\": \"I'm doing well...\"}\n",
    "]]\n",
    "dataset_2 = [[\n",
    "    {\"role\": \"user\", \"content\": \"Hi how are you?\"},\n",
    "    {\"role\": \"assistant\", \"content\": \"Arr my spirits be high...\"}\n",
    "]]\n",
    "\n",
    "formal_features, informal_features =  client.features.contrast(\n",
    "    dataset_1=dataset_1,\n",
    "    dataset_2=dataset_2,\n",
    "    model=\"meta-llama/Llama-3.3-70B-Instruct\",\n",
    "    top_k=5\n",
    ")"
   ]
  },
  {
   "cell_type": "code",
   "execution_count": 12,
   "metadata": {},
   "outputs": [],
   "source": [
    "formal_features\n",
    "random_feature = formal_features[0]"
   ]
  },
  {
   "cell_type": "code",
   "execution_count": 10,
   "metadata": {},
   "outputs": [
    {
     "data": {
      "text/plain": [
       "FeatureGroup([\n",
       "   0: \"Assistant responding to casual greetings about its wellbeing\",\n",
       "   1: \"Status check questions and responses using 'doing' in conversation\",\n",
       "   2: \"The assistant maintaining honesty about being an AI\",\n",
       "   3: \"Assistant's initial friendly greeting to open a conversation\",\n",
       "   4: \"Positive responses to 'how are you' questions across languages\"\n",
       "])"
      ]
     },
     "execution_count": 10,
     "metadata": {},
     "output_type": "execute_result"
    }
   ],
   "source": [
    "# Rerank features based on relevance to \"writing style\"\n",
    "reranked = client.features.rerank(\n",
    "    features=formal_features,\n",
    "    query=\"writing style\",\n",
    "    model=\"meta-llama/Llama-3.3-70B-Instruct\",\n",
    "    top_k=10\n",
    ")\n",
    "\n",
    "reranked"
   ]
  },
  {
   "cell_type": "code",
   "execution_count": 20,
   "metadata": {},
   "outputs": [
    {
     "data": {
      "text/plain": [
       "'8bb53ed7-ed2f-4166-9161-13df6006451d'"
      ]
     },
     "execution_count": 20,
     "metadata": {},
     "output_type": "execute_result"
    }
   ],
   "source": [
    "random_feature.uuid"
   ]
  },
  {
   "cell_type": "code",
   "execution_count": null,
   "metadata": {},
   "outputs": [],
   "source": []
  }
 ],
 "metadata": {
  "kernelspec": {
   "display_name": "steering-interface-w-ember",
   "language": "python",
   "name": "steering-interface"
  },
  "language_info": {
   "codemirror_mode": {
    "name": "ipython",
    "version": 3
   },
   "file_extension": ".py",
   "mimetype": "text/x-python",
   "name": "python",
   "nbconvert_exporter": "python",
   "pygments_lexer": "ipython3",
   "version": "3.13.2"
  }
 },
 "nbformat": 4,
 "nbformat_minor": 2
}
