{
 "cells": [
  {
   "cell_type": "code",
   "execution_count": 4,
   "metadata": {},
   "outputs": [
    {
     "name": "stdout",
     "output_type": "stream",
     "text": [
      "API key loaded: ✓\n",
      "Looking for .env file at: /Users/allison/workspace/ai playground/steering-interface/backend/.env\n"
     ]
    }
   ],
   "source": [
    "from dotenv import load_dotenv\n",
    "import os\n",
    "from pathlib import Path\n",
    "\n",
    "# Direct path specification\n",
    "env_path = Path('../backend/.env').resolve()  # or Path('../backend/.env') depending on your directory structure\n",
    "\n",
    "# Load environment variables from .env file with explicit path\n",
    "load_dotenv(dotenv_path=env_path)\n",
    "\n",
    "# Access your API key\n",
    "api_key = os.getenv(\"EMBER_API_KEY\")\n",
    "\n",
    "# Verify it loaded (don't print the actual key in your notebook!)\n",
    "print(\"API key loaded:\", \"✓\" if api_key else \"✗\")\n",
    "print(f\"Looking for .env file at: {env_path}\")"
   ]
  },
  {
   "cell_type": "code",
   "execution_count": 5,
   "metadata": {},
   "outputs": [],
   "source": [
    "import goodfire"
   ]
  },
  {
   "cell_type": "code",
   "execution_count": 6,
   "metadata": {},
   "outputs": [],
   "source": [
    "client = goodfire.Client(\n",
    "    api_key=api_key,\n",
    ")"
   ]
  },
  {
   "cell_type": "code",
   "execution_count": 7,
   "metadata": {},
   "outputs": [
    {
     "name": "stdout",
     "output_type": "stream",
     "text": [
      "The capital of France is Paris.\n"
     ]
    }
   ],
   "source": [
    "response =  client.chat.completions.create(\n",
    "    messages=[\n",
    "        {\"role\": \"user\", \"content\": \"What is the capital of France?\"}\n",
    "    ],\n",
    "    model=\"meta-llama/Llama-3.3-70B-Instruct\"\n",
    ")\n",
    "\n",
    "print(response.choices[0].message[\"content\"])"
   ]
  },
  {
   "cell_type": "code",
   "execution_count": 8,
   "metadata": {},
   "outputs": [
    {
     "name": "stdout",
     "output_type": "stream",
     "text": [
      "Variant(\n",
      "   base_model=meta-llama/Llama-3.3-70B-Instruct,\n",
      "   edits={\n",
      "   }\n",
      "   scopes={\n",
      "   }\n",
      ")\n"
     ]
    }
   ],
   "source": [
    "# Create a variant\n",
    "\n",
    "vDefault = goodfire.Variant(\"meta-llama/Llama-3.3-70B-Instruct\")\n",
    "print(vDefault)"
   ]
  },
  {
   "cell_type": "code",
   "execution_count": null,
   "metadata": {},
   "outputs": [
    {
     "name": "stdout",
     "output_type": "stream",
     "text": [
      "FeatureGroup([\n",
      "   0: \"Simplified explanations of complex concepts\",\n",
      "   1: \"Explaining complex topics in simpler terms to help understanding\",\n",
      "   2: \"Explaining complex concepts using simple, accessible language\",\n",
      "   3: \"Breaking down technical concepts into simpler explanations\",\n",
      "   4: \"Breaking down complex topics into simpler explanations\",\n",
      "   5: \"Breaking down complex topics into simpler explanations\",\n",
      "   6: \"The assistant is providing a simplified technical explanation\",\n",
      "   7: \"The assistant is simplifying a complex technical concept\",\n",
      "   8: \"Making complex concepts understandable to others\",\n",
      "   9: \"Detailed explanation of inner workings or processes\"\n",
      "])\n"
     ]
    }
   ],
   "source": [
    "# Search features\n",
    "\n",
    "feature = client.features.search(\"ELI5\", model=vDefault, top_k=10)\n",
    "print(feature)"
   ]
  },
  {
   "cell_type": "code",
   "execution_count": 17,
   "metadata": {},
   "outputs": [
    {
     "name": "stdout",
     "output_type": "stream",
     "text": [
      "Technical setup and configuration states in experimental procedures: 7\n",
      "The assistant should engage with pirate-themed content or roleplay as a pirate: 7\n",
      "The assistant acknowledges its AI limitations while pivoting to what it can offer: 7\n",
      "Detailed personification and attribute description in formal writing: 7\n",
      "Setting up detailed writing or description tasks: 5\n"
     ]
    }
   ],
   "source": [
    "inspector = client.features.inspect(\n",
    "    [\n",
    "        {\"role\": \"user\", \"content\": \"What do you think about pirates and whales\"},\n",
    "        {\"role\": \"assistant\", \"content\": \"I think pirates are cool and whales are cool\"}\n",
    "    ],\n",
    "    model=vDefault\n",
    ")\n",
    "\n",
    "# Get top activated features\n",
    "for activation in inspector.top(k=5):\n",
    "    print(f\"{activation.feature.label}: {activation.activation}\")"
   ]
  },
  {
   "cell_type": "code",
   "execution_count": null,
   "metadata": {},
   "outputs": [],
   "source": []
  }
 ],
 "metadata": {
  "kernelspec": {
   "display_name": "steering-interface-w-ember",
   "language": "python",
   "name": "steering-interface"
  },
  "language_info": {
   "codemirror_mode": {
    "name": "ipython",
    "version": 3
   },
   "file_extension": ".py",
   "mimetype": "text/x-python",
   "name": "python",
   "nbconvert_exporter": "python",
   "pygments_lexer": "ipython3",
   "version": "3.13.2"
  }
 },
 "nbformat": 4,
 "nbformat_minor": 2
}
